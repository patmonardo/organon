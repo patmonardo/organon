{
 "cells": [
  {
   "cell_type": "markdown",
   "metadata": {},
   "source": [
    "# GENERAL DIVISION OF BEING\n"
   ]
  },
  {
   "cell_type": "markdown",
   "metadata": {},
   "source": [
    "    Being is determined, first, as against another in general; \n",
    "    secondly, it is internally self-determining; \n",
    "    thirdly, as this preliminary division is cast off,\n",
    "    it is the abstract indeterminateness and immediacy\n",
    "    in which it must be the beginning.\n"
   ]
  },
  {
   "cell_type": "markdown",
   "metadata": {},
   "source": [
    "\n",
    "    According to the first determination,\n",
    "    being partitions itself off from essence,\n",
    "    for further on in its development \n",
    "    it proves to be in its totality \n",
    "    only one sphere of the concept,\n",
    "    and to this sphere as moment \n",
    "    it opposes another sphere.\n"
   ]
  },
  {
   "cell_type": "markdown",
   "metadata": {},
   "source": [
    "\n",
    "    According to the second, it is the sphere within which fall\n",
    "    the determinations and the entire movement of its reflection.\n",
    "    In this, being will posit itself in three determinations:\n",
    "    I. as determinateness; as such, quality;\n",
    "    II. as sublated determinateness; magnitude, quantity;\n",
    "    III. as qualitatively determined quantity; measure.\n",
    "    \n"
   ]
  },
  {
   "cell_type": "markdown",
   "metadata": {},
   "source": [
    "    This division, as was generally remarked \n",
    "    of such divisions in the Introduction, \n",
    "    is here a preliminary statement;\n",
    "    its determinations must first arise\n",
    "    from the movement of being itself, \n",
    "    and receive their definitions\n",
    "    and justification by virtue of it.\n",
    "    As regards the divergence of this division\n",
    "    from the usual listing of the categories,\n",
    "    namely quantity, quality, relation and modality \n",
    "    (for Kant, incidentally, these are supposed to be\n",
    "    only classifications of his categories,\n",
    "    but are in fact themselves categories,\n",
    "    only more abstract ones)\n",
    "    about this, there is nothing to remark here, \n",
    "    since the entire listing will diverge from\n",
    "    the usual ordering and meaning of the categories at every point.\n"
   ]
  },
  {
   "cell_type": "markdown",
   "metadata": {},
   "source": [
    "\n",
    "    According to the second, it is the sphere within which fall\n",
    "    the determinations and the entire movement of its reflection.\n",
    "    In this, being will posititself in three determinations:\n",
    "    I. as determinateness; as such, quality;\n",
    "    II. as sublated determinateness; magnitude, quantity;\n",
    "    III. as qualitatively determined quantity; measure.\n",
    "    \n"
   ]
  },
  {
   "cell_type": "markdown",
   "metadata": {},
   "source": [
    "\n",
    "    This only can perhaps be remarked,\n",
    "    that the determination of quantity is \n",
    "    ordinarily listed ahead of quality \n",
    "    and as a rule this is done for no given reason. \n",
    "    It has already been shown that the beginning\n",
    "    is made with being as such, \n",
    "    and hence with qualitative being.\n",
    "    It is clear from a comparison of quality with quantity \n",
    "    that the former is by nature first.\n",
    "    For quantity is quality which has already become negative;\n",
    "    magnitude is the determinateness which, \n",
    "    no longer one with being but already distinguished from it,\n",
    "    is the sublated quality that has become indifferent.\n",
    "    It includes the alterability of being without altering the fact itself,\n",
    "    namely being, of which it is the determination;\n",
    "    qualitative determinateness is on the contrary one with its being, \n",
    "    it neither transcends it nor stays within it\n",
    "    but is its immediate restrictedness. \n",
    "    Hence quality, as the determinateness which is immediate,\n",
    "    is the first and it is with it that the beginning is to be made.\n"
   ]
  },
  {
   "cell_type": "markdown",
   "metadata": {},
   "source": [
    "\n",
    "    Measure is a relation, not relation in general\n",
    "    but specifically of quality and quantity to each other;\n",
    "    the categories dealt with by Kant under relation\n",
    "    will come up elsewhere in their proper place.\n",
    "    Measure, if one so wishes, \n",
    "    can be considered also a modality;\n",
    "    but since with Kant modality is no longer supposed\n",
    "    to make up a determination of content,\n",
    "    but only concerns the reference of the content\n",
    "    to thought, to the subjective,\n",
    "    the result is a totally heterogeneous reference\n",
    "    that does not belong here.\n",
    "    \n"
   ]
  },
  {
   "cell_type": "markdown",
   "metadata": {},
   "source": [
    "    The third determination of being\n",
    "    falls within the section Quality\n",
    "    inasmuch as being, as abstract immediacy,\n",
    "    reduces itself to one single determinateness\n",
    "    as against its other determinacies inside its sphere. \n"
   ]
  },
  {
   "cell_type": "markdown",
   "metadata": {},
   "source": [
    "# SECTION I\n"
   ]
  },
  {
   "cell_type": "markdown",
   "metadata": {},
   "source": [
    "# Determinateness (Quality)\n"
   ]
  },
  {
   "cell_type": "markdown",
   "metadata": {},
   "source": [
    "    Being is the indeterminate immediate;\n",
    "    it is free of determinateness with\n",
    "    respect to essence, \n",
    "    just as it is still free of any determinateness that it can\n",
    "    receive within itself. \n",
    "    This reflectionless being is being\n",
    "    as it immediately is only within.\n",
    "    Since it is immediate, it is being without quality;\n",
    "    but the character of indeterminateness attaches to it\n",
    "    in itself only in opposition to what is determinate or qualitative.\n"
   ]
  },
  {
   "cell_type": "markdown",
   "metadata": {},
   "source": [
    "    Determinate being thus comes to stand\n",
    "    over and against being in general; \n",
    "    with that, however, the very indeterminateness\n",
    "    of being constitutes its quality.\n",
    "    It will therefore be shown that \n",
    "    the first being is in itself determinate,\n",
    "    and therefore, secondly,\n",
    "    that it passes over into existence,\n",
    "    is existence; \n",
    "    that this latter, however, as finite being,\n",
    "    sublates itself and passes over into\n",
    "    the infinite reference of being to itself;\n",
    "    it passes over, thirdly, into being-for-itself"
   ]
  },
  {
   "cell_type": "markdown",
   "metadata": {},
   "source": [
    "# CHAPTER 1"
   ]
  },
  {
   "cell_type": "markdown",
   "metadata": {},
   "source": [
    "# Quality"
   ]
  },
  {
   "cell_type": "markdown",
   "metadata": {},
   "source": [
    "\n",
    "## A. BEING\n"
   ]
  },
  {
   "cell_type": "markdown",
   "metadata": {},
   "source": [
    "\n",
    "    Being, pure being, without further determination.\n",
    "    In its indeterminate immediacy it is equal only to itself\n",
    "    and also not unequal with respect to another;\n",
    "    it has no difference within it, nor any outwardly."
   ]
  },
  {
   "cell_type": "markdown",
   "metadata": {},
   "source": [
    "1. **Essence of Pure Being**: The transcreation focuses on conveying the concept of pure being as an entity that exists without any additional determinations or characteristics.\n",
    "\n",
    "2. **Undifferentiated Nature**: Emphasis is placed on the lack of internal differentiation within pure being, highlighting its uniform and unvaried nature.\n",
    "\n",
    "3. **Self-Identity**: The text underscores the self-identity of pure being, stressing that it is equal only to itself and not marked by any external comparisons or contrasts.\n",
    "\n",
    "4. **Simplicity in Existence**: The transcreation brings out the aspect of simplicity and elemental existence in the concept of pure being, free from any complexities or distinctions."
   ]
  },
  {
   "cell_type": "markdown",
   "metadata": {},
   "source": [
    "\n",
    "    If any determination or content were posited in it as distinct,\n",
    "    or if it were posited by this determination or content\n",
    "    as distinct from an other,\n",
    "    it would thereby fail to hold fast to its purity.\n"
   ]
  },
  {
   "cell_type": "markdown",
   "metadata": {},
   "source": [
    "1. **Condition for Maintaining Purity**: The transcreation emphasizes that the presence of any distinct characteristics or content within pure being would compromise its essential purity.\n",
    "\n",
    "2. **Incompatibility with Distinction**: The explanation clarifies that any form of differentiation, whether internal (specific characteristics) or external (comparative relations), is incompatible with the nature of pure being.\n",
    "\n",
    "3. **Preservation of Undifferentiated State**: The focus is on the necessity for pure being to remain free from any distinctions in order to preserve its fundamental nature."
   ]
  },
  {
   "cell_type": "markdown",
   "metadata": {},
   "source": [
    "\n",
    "    It is pure indeterminateness and emptiness.\n"
   ]
  },
  {
   "cell_type": "markdown",
   "metadata": {},
   "source": [
    "1. **Emphasis on Indeterminacy**: The transcreation stresses the fundamental nature of pure being as utterly indeterminate, lacking any specific characteristics or definitions.\n",
    "\n",
    "2. **Highlighting Emptiness**: It brings to the forefront the concept of emptiness as a key attribute of pure being, underscoring its total absence of content or distinguishing features."
   ]
  },
  {
   "cell_type": "markdown",
   "metadata": {},
   "source": [
    "\n",
    "    There is nothing to be intuited in it,\n",
    "    if one can speak here of intuiting;\n",
    "    or, it is only this pure empty intuiting itself.\n",
    "    Just as little is anything to be thought in it,\n",
    "    or, it is equally only this empty thinking.\n"
   ]
  },
  {
   "cell_type": "markdown",
   "metadata": {},
   "source": [
    "1. **Absence of Content in Intuiting and Thinking**: The transcreation emphasizes that in the context of pure being, both intuiting and thinking lack any substantive content; they are purely empty acts.\n",
    "\n",
    "2. **Applicability of Intuiting and Thinking**: It brings into question the relevance of intuiting and thinking in the context of pure being, suggesting that these cognitive processes may not fully apply in this realm.\n",
    "\n",
    "3. **Focus on the Nature of Pure Being**: The transcreation underlines the characteristic of pure being as being devoid of any content, thus affecting the nature of both intuiting and thinking."
   ]
  },
  {
   "cell_type": "markdown",
   "metadata": {},
   "source": [
    "    Being, the indeterminate immediate is in fact nothing,\n",
    "    and neither more nor less than nothing.\n"
   ]
  },
  {
   "cell_type": "markdown",
   "metadata": {},
   "source": [
    "\n",
    "1. **Equating Being with Nothingness**: The transcreation captures Hegel's idea that pure being, in its most immediate and indeterminate form, is equivalent to nothingness.\n",
    "\n",
    "2. **Absence of Qualitative Difference**: It emphasizes that this state of being is not just similar to nothing, but exactly nothing, without any degree of more or less.\n",
    "\n",
    "3. **Focus on Indeterminacy**: The concept of being as indeterminate and immediate is highlighted, underscoring its lack of specific attributes or identity."
   ]
  },
  {
   "cell_type": "markdown",
   "metadata": {},
   "source": [
    "## B. NOTHING\n"
   ]
  },
  {
   "cell_type": "markdown",
   "metadata": {},
   "source": [
    "\n",
    "    Nothing, pure nothingness;\n",
    "    it is simple equality with itself,\n",
    "    complete emptiness,\n",
    "    complete absence of determination and content;\n",
    "    lack of all distinction within.\n"
   ]
  },
  {
   "cell_type": "markdown",
   "metadata": {},
   "source": [
    "\n",
    "1. **Emphasizing Pure Emptiness**: The transcreation highlights the core concept of nothingness as a state of complete emptiness, devoid of any substance or content.\n",
    "\n",
    "2. **Self-Equality of Nothingness**: It stresses that pure nothingness is characterized by a fundamental equality with itself, indicating a lack of any form of differentiation or distinction.\n",
    "\n",
    "3. **Absence of Determination and Content**: The focus is on the total absence of any defining attributes or content within the state of nothingness, underscoring its undifferentiated nature.\n",
    "\n",
    "4. **Lack of Internal Distinction**: The transcreation underlines that pure nothingness is devoid of any internal distinctions, reinforcing the idea of its uniform and undifferentiated character."
   ]
  },
  {
   "cell_type": "markdown",
   "metadata": {},
   "source": [
    "\n",
    "    In so far as mention can be made here of\n",
    "    intuiting and thinking,\n",
    "    it makes a difference whether something or nothing is\n",
    "    being intuited or thought.\n"
   ]
  },
  {
   "cell_type": "markdown",
   "metadata": {},
   "source": [
    "\n",
    "1. **Differentiating Intuiting and Thinking**: The transcreation emphasizes the distinction in the processes of intuiting (perceiving) and thinking (conceptualizing) based on their objects – either something (presence) or nothing (absence).\n",
    "\n",
    "2. **Impact of Object on Cognitive Process**: It brings attention to how the nature of the object (something or nothing) being intuited or thought about influences the character and nature of these cognitive processes.\n",
    "\n",
    "3. **Significance of Content in Cognition**: The focus is on the importance of the content (whether it is something or nothing) in shaping the experience and outcomes of intuiting and thinking."
   ]
  },
  {
   "cell_type": "markdown",
   "metadata": {},
   "source": [
    "\n",
    "    To intuit or to think nothing has therefore a meaning;\n",
    "    the two are distinguished and so nothing is (concretely exists)\n",
    "    in our intuiting or thinking;\n",
    "    or rather it is the empty intuiting and thinking itself,\n",
    "    like pure being.\n"
   ]
  },
  {
   "cell_type": "markdown",
   "metadata": {},
   "source": [
    "\n",
    "1. **Significance of Intuiting or Thinking Nothing**: The transcreation underscores that intuiting or thinking about nothing is a meaningful cognitive act, distinct from engaging with something substantive.\n",
    "\n",
    "2. **Concrete Existence of Nothing in Cognition**: It highlights how the concept of nothing gains a form of concrete existence when it becomes the object of our intuiting or thinking, effectively becoming present in our cognitive process.\n",
    "\n",
    "3. **Nothing as Active in Cognition**: The focus is on the active role that the concept of nothing plays in cognition, transforming an abstract idea into a tangible cognitive experience.\n",
    "\n",
    "4. **Parallel with Pure Being**: The comparison to pure being illustrates that engaging with nothingness in cognition is similar to the experience of pure being, which is also an engagement with a form of emptiness or void."
   ]
  },
  {
   "cell_type": "markdown",
   "metadata": {},
   "source": [
    "\n",
    "    Nothing is therefore the same determination\n",
    "    or rather absence of determination,\n",
    "    and thus altogether the same as what pure being is.\n"
   ]
  },
  {
   "cell_type": "markdown",
   "metadata": {},
   "source": [
    "\n",
    "1. **Equality of Nothingness and Pure Being**: The transcreation emphasizes the core idea that nothingness and pure being are fundamentally the same, highlighting their shared characteristic of having no specific determinations.\n",
    "\n",
    "2. **Focus on Absence of Determination**: It underscores that the primary feature of both concepts is the absence of any defining characteristics or conditions.\n",
    "\n",
    "3. **Emphasizing Identical Nature**: The transcreation clarifies that nothingness and pure being are not just similar but are in fact identical in their fundamental nature."
   ]
  },
  {
   "cell_type": "markdown",
   "metadata": {},
   "source": [
    "\n",
    "## C. BECOMING\n"
   ]
  },
  {
   "cell_type": "markdown",
   "metadata": {},
   "source": [
    "### 1. Unity of being and nothing\n"
   ]
  },
  {
   "cell_type": "markdown",
   "metadata": {},
   "source": [
    "\n",
    "    Pure being and pure nothing are therefore the same.\n",
    "    The truth is neither being nor nothing,\n",
    "    but rather that being has passed over into nothing\n",
    "    and nothing into being;\n",
    "    “has passed over,” not passes over.\n"
   ]
  },
  {
   "cell_type": "markdown",
   "metadata": {},
   "source": [
    "\n",
    "1. **Unity of Being and Nothingness**: The transcreation emphasizes the fundamental unity between pure being and pure nothingness, underlining their identical nature at the deepest level.\n",
    "\n",
    "2. **Transition as Central Truth**: It highlights that the essence of the truth is in the transition – being has transformed into nothingness and vice versa. This aspect is crucial in understanding the concept of becoming.\n",
    "\n",
    "3. **Completed Transition**: The phrase “has passed over” is stressed to indicate that this transition between being and nothingness is not a continuous process but a completed act. This distinction is important for grasping the nature of becoming in this context.\n",
    "\n",
    "4. **Focus on the Process of Becoming**: By emphasizing the transition, the transcreation aligns with the philosophical concept of becoming, which is a synthesis of being and nothingness."
   ]
  },
  {
   "cell_type": "markdown",
   "metadata": {},
   "source": [
    "\n",
    "    But the truth is just as much that\n",
    "    they are not without distinction;\n",
    "    it is rather that they are not the same,\n",
    "    that they are absolutely distinct\n",
    "    yet equally unseparated and inseparable,\n",
    "    and that each immediately vanishes in its opposite.\n"
   ]
  },
  {
   "cell_type": "markdown",
   "metadata": {},
   "source": [
    "\n",
    "1. **Paradoxical Distinction and Unity**: The transcreation highlights the paradoxical nature of pure being and pure nothing – they are fundamentally distinct, yet inextricably linked and inseparable.\n",
    "\n",
    "2. **Emphasis on Non-Identity**: It stresses that, contrary to a simplistic interpretation, being and nothing are not the same; they possess absolute distinction.\n",
    "\n",
    "3. **Intrinsic Connection and Inseparability**: The transcreation underscores that despite their differences, being and nothing cannot be separated; they are inherently connected in the philosophical context.\n",
    "\n",
    "4. **Mutual Transition and Dissolution**: A critical aspect is the immediate transition of each concept into its opposite – being vanishes into nothing, and nothing vanishes into being, signifying a continuous dialectical process."
   ]
  },
  {
   "cell_type": "markdown",
   "metadata": {},
   "source": [
    "\n",
    "    Their truth is therefore this movement of\n",
    "    the immediate vanishing of the one into the other:\n",
    "    becoming, a movement in which the two are distinguished,\n",
    "    but by a distinction which has just as immediately dissolved itself.\n"
   ]
  },
  {
   "cell_type": "markdown",
   "metadata": {},
   "source": [
    "\n",
    "1. **Dynamic Process of Transformation**: The transcreation emphasizes the continuous and immediate transformation of being into nothing and nothing into being, defining this process as 'becoming'.\n",
    "\n",
    "2. **Simultaneous Distinction and Resolution**: It highlights the paradoxical nature of 'becoming' where being and nothing are distinct, yet this distinction is immediately and inherently resolved, signifying a state of perpetual transition.\n",
    "\n",
    "3. **Fluidity and Transience of Becoming**: The focus is on the transient and fluid nature of becoming, underscoring its characteristic as a dynamic and ever-changing process.\n",
    "\n",
    "4. **Balancing Distinction and Unity**: The transcreation captures the delicate balance in the concept of becoming, where being and nothing maintain their distinction yet are unified in their continuous and instantaneous transition."
   ]
  },
  {
   "cell_type": "markdown",
   "metadata": {},
   "source": [
    "### 2. The moments of becoming\n"
   ]
  },
  {
   "cell_type": "markdown",
   "metadata": {},
   "source": [
    "\n",
    "    Becoming is the unseparatedness of being and nothing,\n",
    "    not the unity that abstracts from being and nothing;\n",
    "    as the unity of being and nothing\n",
    "    it is rather this determinate unity,\n",
    "    or one in which being and nothing equally are.\n",
    "    \n"
   ]
  },
  {
   "cell_type": "markdown",
   "metadata": {},
   "source": [
    "\n",
    "1. **Inseparable Interrelation**: The transcreation emphasizes that becoming is not merely a superficial combination of being and nothing, but an inseparable interrelation that respects the individuality of each.\n",
    "\n",
    "2. **Beyond Abstract Unity**: It highlights that becoming transcends a simplistic, abstract unity that might ignore the distinct qualities of being and nothing.\n",
    "\n",
    "3. **Determinate Unity with Equal Presence**: The focus is on the idea that becoming is a specific type of unity where being and nothing are equally present and influential, maintaining their distinct identities within this unity.\n",
    "\n",
    "4. **Coexistence of Distinct Essences**: The transcreation captures the notion that becoming is a state where the essences of being and nothing coexist in balance, neither overpowering the other."
   ]
  },
  {
   "cell_type": "markdown",
   "metadata": {},
   "source": [
    "    However, inasmuch as being and nothing are\n",
    "    each unseparated from its other, each is not.\n",
    "    In this unity, therefore, they are,\n",
    "    but as vanishing, only as sublated.\n",
    "    They sink from their initially represented self-subsistence\n",
    "    into moments which are still distinguished\n",
    "    but at the same time sublated.\n"
   ]
  },
  {
   "cell_type": "markdown",
   "metadata": {},
   "source": [
    "\n",
    "1. **Inseparability Leading to Non-Independence**: The transcreation emphasizes that due to the inseparability of being and nothing, neither can exist as an independent entity. Their interdependence negates their individual self-subsistence.\n",
    "\n",
    "2. **Transient Existence in Unity**: It highlights that in the unity of becoming, being and nothing exist only in a state of vanishing or transition – they are sublated, meaning they are both preserved and transcended in this process.\n",
    "\n",
    "3. **Sublation in Becoming**: The concept of sublation is crucial here, showing how being and nothing lose their initial self-contained status and become transient aspects within the larger process of becoming.\n",
    "\n",
    "4. **Distinction Within Unity**: While being and nothing are unified in becoming, they still retain a form of distinction. However, this distinction is not absolute but is instead a part of the dynamic process of becoming."
   ]
  },
  {
   "cell_type": "markdown",
   "metadata": {},
   "source": [
    "\n",
    "    Grasped as thus distinguished,\n",
    "    each is in their distinguishedness\n",
    "    a unity with the other.\n",
    "    \n"
   ]
  },
  {
   "cell_type": "markdown",
   "metadata": {},
   "source": [
    "\n",
    "1. **Distinct Yet Unified**: The transcreation emphasizes that being and nothing, though grasped as distinct, are inherently unified with each other. Their distinction does not imply separation but rather a different form of unity.\n",
    "\n",
    "2. **Unity in Distinctiveness**: It highlights the concept that the individual distinctiveness of being and nothing does not hinder their unity; instead, it is within this very distinctiveness that their unity lies.\n",
    "\n",
    "3. **Inherent Interconnection**: The focus is on the inherent interconnection between being and nothing, suggesting that their distinction is an integral part of their unification.\n",
    "\n",
    "4. **Philosophical Paradox**: The transcreation brings out the paradoxical nature of being and nothing in the context of becoming – they are separate yet inseparably unified."
   ]
  },
  {
   "cell_type": "markdown",
   "metadata": {},
   "source": [
    "    Becoming thus contains being and nothing as two such unities,\n",
    "    each of which is itself unity of being and nothing;\n",
    "    the one is being as immediate and as reference to nothing;\n",
    "    the other is nothing as immediate and as reference to being;\n",
    "    in these unities the determinations are of unequal value.\n"
   ]
  },
  {
   "cell_type": "markdown",
   "metadata": {},
   "source": [
    "\n",
    "1. **Dual Structure in Becoming**: The transcreation highlights that becoming consists of two unities – one where being predominates with a reference to nothing, and another where nothing is predominant with a reference to being.\n",
    "\n",
    "2. **Individual Unity of Being and Nothing**: It emphasizes that each of these unities, within the broader context of becoming, is a blend of being and nothing, yet they manifest differently in each unity.\n",
    "\n",
    "3. **Unequal Value of Determinations**: The transcreation points out that in these unities, the roles and significance of being and nothing are not equal. Each takes on a different weight or value depending on whether it's in the context of being or nothing.\n",
    "\n",
    "4. **Immediate Character with Referential Dynamics**: The focus is on the immediate nature of both being and nothing in their respective unities, along with their referential relationship to each other."
   ]
  },
  {
   "cell_type": "markdown",
   "metadata": {},
   "source": [
    "    Becoming is in this way doubly determined.\n",
    "    In one determination, nothing is the immediate,\n",
    "    that is, the determination begins with nothing\n",
    "    and this refers to being;\n",
    "    that is to say, it passes over into it.\n",
    "    In the other determination, being is the immediate,\n",
    "    that is, the determination begins with being\n",
    "    and this passes over into nothing:\n",
    "    coming-to-be and ceasing-to-be.\n"
   ]
  },
  {
   "cell_type": "markdown",
   "metadata": {},
   "source": [
    "\n",
    "1. **Dual Nature of Becoming**: The transcreation underlines the dual aspects of becoming – one starting from nothing and moving towards being, and the other starting from being and moving towards nothing.\n",
    "\n",
    "2. **Nothing as Immediate in One Aspect**: It highlights that in one determination of becoming, nothingness is the initial state, leading to a transition into being, symbolizing a 'coming-to-be'.\n",
    "\n",
    "3. **Being as Immediate in the Other Aspect**: Conversely, the transcreation shows that in the other determination, being is the starting point, which then transitions into nothing, representing 'ceasing-to-be'.\n",
    "\n",
    "4. **Dynamic Transition Process**: The focus is on the dynamic nature of becoming, which involves a continuous process of transition between being and nothingness."
   ]
  },
  {
   "cell_type": "markdown",
   "metadata": {},
   "source": [
    "\n",
    "    Both are the same, becoming,\n",
    "    and even as directions that are so different\n",
    "    they interpenetrate and paralyze each other.\n",
    "    The one is ceasing-to-be;\n",
    "    being passes over into nothing,\n",
    "    but nothing is just as much the opposite of itself,\n",
    "    the passing-over into being, coming-to-be.\n",
    "    This coming-to-be is the other direction;\n",
    "    nothing goes over into being,\n",
    "    but being equally sublates itself\n",
    "    and is rather the passing-over into nothing;\n",
    "    it is ceasing-to-be.\n",
    "    They do not sublate themselves reciprocally\n",
    "    [the one sublating the other externally]\n",
    "    but each rather sublates itself in itself\n",
    "    and is within it the opposite of itself.\n"
   ]
  },
  {
   "cell_type": "markdown",
   "metadata": {},
   "source": [
    "\n",
    "1. **Intermingling of Processes**: The transcreation emphasizes the intertwined nature of coming-to-be and ceasing-to-be, showing how these processes coexist and neutralize each other within the concept of becoming.\n",
    "\n",
    "2. **Internal Contradiction and Transformation**: It highlights that both ceasing-to-be and coming-to-be contain within themselves the potential for their opposite process – each inherently transforms into its counterpart.\n",
    "\n",
    "3. **Self-Sublation**: The focus is on the self-sublating nature of being and nothing – they don't negate each other through external interactions but through their own internal dynamics.\n",
    "\n",
    "4. **Duality within Unity**: The transcreation captures the duality present within the unified concept of becoming, where being and nothing constantly transition into each other."
   ]
  },
  {
   "cell_type": "markdown",
   "metadata": {},
   "source": [
    "### 3. Sublation of becoming\n"
   ]
  },
  {
   "cell_type": "markdown",
   "metadata": {},
   "source": [
    "\n",
    "    The equilibrium in which coming-to-be and ceasing-to-be are poised\n",
    "    is in the first place becoming itself.\n",
    "    But this becoming equally collects itself in quiescent unity.\n",
    "    Being and nothing are in it only as vanishing;\n",
    "    becoming itself, however, is only by virtue of their being distinguished.\n",
    "    Their vanishing is therefore the vanishing of becoming,\n",
    "    or the vanishing of the vanishing itself.\n",
    "    Becoming is a ceaseless unrest that collapses into a quiescent result.\n"
   ]
  },
  {
   "cell_type": "markdown",
   "metadata": {},
   "source": [
    "\n",
    "1. **Equilibrium of Opposites**: The transcreation emphasizes the initial balance between coming-to-be and ceasing-to-be, which forms the essence of becoming.\n",
    "\n",
    "2. **Consolidation into Unity**: It highlights that becoming not only represents dynamic movement but also gathers itself into a state of peaceful unity.\n",
    "\n",
    "3. **Transience of Being and Nothing**: The focus is on the fleeting nature of being and nothing within becoming, where they exist only as vanishing elements.\n",
    "\n",
    "4. **Dependency on Distinction**: The transcreation underscores that becoming is contingent upon the differentiation of being and nothing. Without this distinction, becoming cannot sustain itself.\n",
    "\n",
    "5. **Vanishing of Becoming**: It illustrates that the transient nature of being and nothing leads to the dissolution of becoming itself, a concept described as the \"vanishing of vanishing.\"\n",
    "\n",
    "6. **Transition from Unrest to Quiescence**: The transcreation captures the idea of becoming as a constant unrest or turmoil that eventually settles into a state of quiescence or tranquility."
   ]
  },
  {
   "cell_type": "markdown",
   "metadata": {},
   "source": [
    "\n",
    "    This can also be expressed thus:\n",
    "    becoming is the vanishing of being into nothing,\n",
    "    and of nothing into being,\n",
    "    and the vanishing of being and nothing in general;\n",
    "    but at the same time it rests on their being distinct.\n",
    "    It therefore contradicts itself in itself,\n",
    "    because what it unites within itself is self-opposed;\n",
    "    but such a union destroys itself.\n"
   ]
  },
  {
   "cell_type": "markdown",
   "metadata": {},
   "source": [
    "\n",
    "1. **Dual Vanishing in Becoming**: The transcreation emphasizes the dual aspect of becoming – being vanishing into nothing and nothing vanishing into being, leading to a general dissolution of both.\n",
    "\n",
    "2. **Reliance on Distinction**: It highlights that the process of becoming is dependent on the distinct existence of being and nothing. This distinction is crucial for the process to occur.\n",
    "\n",
    "3. **Inherent Contradiction**: The focus is on the contradictory nature of becoming. It unites elements (being and nothing) that are inherently opposed, creating an internal conflict.\n",
    "\n",
    "4. **Self-Negating Union**: The transcreation captures the idea that the union of opposites within becoming is self-destructive. The contradiction within this union ultimately leads to its own demise."
   ]
  },
  {
   "cell_type": "markdown",
   "metadata": {},
   "source": [
    "\n",
    "    This result is a vanishedness, but it is not nothing;\n",
    "    as such, it would be only a relapse into one of\n",
    "    the already sublated determinations\n",
    "    and not the result of nothing and of being.\n",
    "    It is the unity of being and nothing\n",
    "    that has become quiescent simplicity.\n",
    "    But this quiescent simplicity is being,\n",
    "    yet no longer for itself but as determination of the whole.\n"
   ]
  },
  {
   "cell_type": "markdown",
   "metadata": {},
   "source": [
    "\n",
    "1. **Result as Vanishedness, Not Nothing**: The transcreation underscores that the outcome of the dialectical process is a state of vanishedness, which is distinct from mere nothingness. This distinction prevents the outcome from being a mere reversion to one of the initial states.\n",
    "\n",
    "2. **Quiescent Unity of Being and Nothing**: It highlights that the true result of the dialectic between being and nothing is a tranquil, simple unity of these two elements, a state of peaceful coexistence.\n",
    "\n",
    "3. **Being as a Determination of the Whole**: The focus is on the transformed nature of being in this final state. Being, in this context, is not an isolated entity but a characteristic or quality that emerges from the entire process, encompassing both being and nothing."
   ]
  },
  {
   "cell_type": "markdown",
   "metadata": {},
   "source": [
    "\n",
    "    Becoming, as transition into\n",
    "    the unity of being and nothing,\n",
    "    a unity which is as existent\n",
    "    or has the shape of the one-sided\n",
    "    immediate unity of these moments,\n",
    "    is existence.\n"
   ]
  },
  {
   "cell_type": "markdown",
   "metadata": {},
   "source": [
    "\n",
    "1. **Transition to Unity as Existence**: The transcreation highlights that becoming is essentially a transition process that leads to the unity of being and nothing, and this unified state is what is termed as existence.\n",
    "\n",
    "2. **Characteristics of the Unified State**: It emphasizes that this existence is not a balanced amalgamation of being and nothing, but rather a one-sided, immediate unity, suggesting a dominance or prevalence of one aspect in this unified state.\n",
    "\n",
    "3. **Dynamic Process Culminating in Existence**: The focus is on the dynamic nature of becoming, where the interplay between being and nothing eventually culminates in a state of existence.\n",
    "\n",
    "4. **Immediate and One-Sided Unity**: The transcreation brings attention to the nature of the unity – it is immediate and one-sided, indicating a swift convergence that leans more towards one aspect (either being or nothing)."
   ]
  }
 ],
 "metadata": {
  "kernelspec": {
   "display_name": "jupyter",
   "language": "python",
   "name": "jupyter"
  },
  "language_info": {
   "name": "python",
   "version": "3.11.2"
  }
 },
 "nbformat": 4,
 "nbformat_minor": 2
}
